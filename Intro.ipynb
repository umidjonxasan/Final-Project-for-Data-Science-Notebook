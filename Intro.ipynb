{
  "metadata": {
    "kernelspec": {
      "name": "python",
      "display_name": "Python (Pyodide)",
      "language": "python"
    },
    "language_info": {
      "codemirror_mode": {
        "name": "python",
        "version": 3
      },
      "file_extension": ".py",
      "mimetype": "text/x-python",
      "name": "python",
      "nbconvert_exporter": "python",
      "pygments_lexer": "ipython3",
      "version": "3.8"
    }
  },
  "nbformat_minor": 5,
  "nbformat": 4,
  "cells": [
    {
      "id": "a35eeb9f-df70-4ab1-a243-2d2025888eb0",
      "cell_type": "markdown",
      "source": "# Final Project for Data Science Notebook",
      "metadata": {}
    },
    {
      "id": "b9670d85-ef29-4dfd-b4b5-e76d279c1f1a",
      "cell_type": "markdown",
      "source": "## Introduction\nThis notebook contains exercises related to Data Science. It demonstrates the use of Markdown and code cells to create an organized and informative notebook.\n",
      "metadata": {}
    },
    {
      "id": "9d47c0e1-c0af-437b-bdb4-d980474ecd9a",
      "cell_type": "markdown",
      "source": "## Data Science Languages\n- Python\n- R\n- SQL\n- Julia\n- Scala\n",
      "metadata": {}
    },
    {
      "id": "94e99d38-09f7-4f13-80b8-24dc6a7d2e4d",
      "cell_type": "markdown",
      "source": "## Data Science Libraries\n- Pandas\n- NumPy\n- Matplotlib\n- Scikit-learn\n- TensorFlow\n",
      "metadata": {}
    },
    {
      "id": "b23c75bb-0c65-48c6-b96a-a078e532f48a",
      "cell_type": "markdown",
      "source": "## Data Science Tools\n| Tool           | Purpose                           |\n|----------------|-----------------------------------|\n| Jupyter Notebook | Interactive programming         |\n| RStudio         | Statistical computing            |\n| Tableau         | Data visualization               |\n",
      "metadata": {}
    },
    {
      "id": "de1e8ca4-04f7-44ad-9a6b-a1c6f79e2c0a",
      "cell_type": "markdown",
      "source": "## Arithmetic Expression Examples\nBelow are some examples of arithmetic expressions in Python, including addition and multiplication.\n",
      "metadata": {}
    },
    {
      "id": "05dd3073-58bc-4fd8-b04e-1d941ca8e18b",
      "cell_type": "code",
      "source": "# Multiplying and adding numbers\nresult = (5 * 4) + 2\nresult\n",
      "metadata": {
        "trusted": true
      },
      "outputs": [
        {
          "execution_count": 6,
          "output_type": "execute_result",
          "data": {
            "text/plain": "22"
          },
          "metadata": {}
        }
      ],
      "execution_count": 6
    },
    {
      "id": "9bf07af9-56ff-410a-8e1d-b1e10afe1d91",
      "cell_type": "code",
      "source": "# Convert minutes to hours\nminutes = 150\nhours = minutes / 60\nhours\n",
      "metadata": {
        "trusted": true
      },
      "outputs": [
        {
          "execution_count": 7,
          "output_type": "execute_result",
          "data": {
            "text/plain": "2.5"
          },
          "metadata": {}
        }
      ],
      "execution_count": 7
    },
    {
      "id": "22ddfaba-06d4-40fb-9001-adfb9f8aec2e",
      "cell_type": "markdown",
      "source": "## Objectives\n- Learn how to use Markdown in Jupyter Notebooks\n- Practice writing code for simple arithmetic operations\n- Share a completed notebook through GitHub\n",
      "metadata": {}
    },
    {
      "id": "8832f69e-1734-41d2-b48a-5e0bfaa856fb",
      "cell_type": "markdown",
      "source": "## Author\nJohn Doe\n",
      "metadata": {}
    }
  ]
}